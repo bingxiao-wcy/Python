{
 "cells": [
  {
   "cell_type": "code",
   "execution_count": 17,
   "metadata": {},
   "outputs": [],
   "source": [
    "import requests\n",
    "import re\n",
    "from bs4 import BeautifulSoup\n",
    "import bs4\n",
    "import pandas as pd"
   ]
  },
  {
   "cell_type": "code",
   "execution_count": null,
   "metadata": {},
   "outputs": [],
   "source": []
  },
  {
   "cell_type": "code",
   "execution_count": 18,
   "metadata": {},
   "outputs": [],
   "source": [
    "def getHTMLText(url):\n",
    "    try:\n",
    "        r = requests.get(url, timeout = 30)\n",
    "        r.raise_for_status()\n",
    "        r.encoding = r.apparent_encoding\n",
    "        return r.text\n",
    "    except:\n",
    "        return \"\""
   ]
  },
  {
   "cell_type": "code",
   "execution_count": 88,
   "metadata": {},
   "outputs": [],
   "source": [
    "def fillUnivList(ulist, html):\n",
    "    soup = BeautifulSoup(html, \"html.parser\")\n",
    "    #print(soup.prettify())\n",
    "    print(soup.title)\n",
    "    a_tags = soup.findAll('a')\n",
    "    for tag in a_tags:\n",
    "        try:\n",
    "            ulist.append(tag.attrs['href'])\n",
    "        except:\n",
    "            continue"
   ]
  },
  {
   "cell_type": "code",
   "execution_count": 129,
   "metadata": {},
   "outputs": [],
   "source": [
    "def save_and_deal_url(ulist):\n",
    "    key_word = \"intern\"\n",
    "    list_copy = ulist\n",
    "    url_list = []\n",
    "    count = 1\n",
    "    for url in ulist:\n",
    "        if url.find(\"intern\") != -1:\n",
    "            url_list.append(url)\n",
    "\n",
    "    list = pd.DataFrame(data = url_list)\n",
    "    list.to_csv('./1.csv',encoding = 'gbk')"
   ]
  },
  {
   "cell_type": "code",
   "execution_count": 139,
   "metadata": {},
   "outputs": [],
   "source": []
  },
  {
   "cell_type": "code",
   "execution_count": null,
   "metadata": {},
   "outputs": [],
   "source": [
    "def main():\n",
    "    jobs = \"&type=intern&keyword=数据分析\"\n",
    "    depth = 19\n",
    "    start_url = \"https://www.shixiseng.com/interns?\"\n",
    "    infoList = []\n",
    "    a_list = []\n",
    "    for i in range(depth):\n",
    "        try:\n",
    "            url = start_url + 'page=' + str(i) + jobs\n",
    "            html = getHTMLText(url)\n",
    "            #print(html[1:2000])\n",
    "            fillUnivList(infoList, html)\n",
    "            #print(infoList)\n",
    "        except:\n",
    "            print(\"Error\")\n",
    "    #save_and_deal_url(infoList)\n",
    "    print(\"job done\")\n",
    "    #printGoodsList(infoList) "
   ]
  },
  {
   "cell_type": "code",
   "execution_count": 140,
   "metadata": {},
   "outputs": [
    {
     "name": "stdout",
     "output_type": "stream",
     "text": [
      "<title data-n-head=\"true\">数据分析实习_数据分析实习生招聘信息 – 实习僧</title>\n",
      "<title data-n-head=\"true\">数据分析实习_数据分析实习生招聘信息 – 实习僧</title>\n",
      "<title data-n-head=\"true\">数据分析实习_数据分析实习生招聘信息 – 实习僧</title>\n",
      "<title data-n-head=\"true\">数据分析实习_数据分析实习生招聘信息 – 实习僧</title>\n",
      "<title data-n-head=\"true\">数据分析实习_数据分析实习生招聘信息 – 实习僧</title>\n",
      "<title data-n-head=\"true\">数据分析实习_数据分析实习生招聘信息 – 实习僧</title>\n",
      "<title data-n-head=\"true\">数据分析实习_数据分析实习生招聘信息 – 实习僧</title>\n",
      "<title data-n-head=\"true\">数据分析实习_数据分析实习生招聘信息 – 实习僧</title>\n",
      "<title data-n-head=\"true\">数据分析实习_数据分析实习生招聘信息 – 实习僧</title>\n",
      "<title data-n-head=\"true\">数据分析实习_数据分析实习生招聘信息 – 实习僧</title>\n",
      "<title data-n-head=\"true\">数据分析实习_数据分析实习生招聘信息 – 实习僧</title>\n",
      "<title data-n-head=\"true\">数据分析实习_数据分析实习生招聘信息 – 实习僧</title>\n",
      "<title data-n-head=\"true\">数据分析实习_数据分析实习生招聘信息 – 实习僧</title>\n",
      "<title data-n-head=\"true\">数据分析实习_数据分析实习生招聘信息 – 实习僧</title>\n",
      "<title data-n-head=\"true\">数据分析实习_数据分析实习生招聘信息 – 实习僧</title>\n",
      "<title data-n-head=\"true\">数据分析实习_数据分析实习生招聘信息 – 实习僧</title>\n",
      "<title data-n-head=\"true\">数据分析实习_数据分析实习生招聘信息 – 实习僧</title>\n",
      "<title data-n-head=\"true\">数据分析实习_数据分析实习生招聘信息 – 实习僧</title>\n",
      "<title data-n-head=\"true\">数据分析实习_数据分析实习生招聘信息 – 实习僧</title>\n",
      "job done\n"
     ]
    }
   ],
   "source": [
    "main()"
   ]
  },
  {
   "cell_type": "code",
   "execution_count": null,
   "metadata": {},
   "outputs": [],
   "source": []
  },
  {
   "cell_type": "code",
   "execution_count": null,
   "metadata": {},
   "outputs": [],
   "source": []
  },
  {
   "cell_type": "code",
   "execution_count": null,
   "metadata": {},
   "outputs": [],
   "source": []
  }
 ],
 "metadata": {
  "kernelspec": {
   "display_name": "Python 3",
   "language": "python",
   "name": "python3"
  },
  "language_info": {
   "codemirror_mode": {
    "name": "ipython",
    "version": 3
   },
   "file_extension": ".py",
   "mimetype": "text/x-python",
   "name": "python",
   "nbconvert_exporter": "python",
   "pygments_lexer": "ipython3",
   "version": "3.8.3"
  }
 },
 "nbformat": 4,
 "nbformat_minor": 2
}
