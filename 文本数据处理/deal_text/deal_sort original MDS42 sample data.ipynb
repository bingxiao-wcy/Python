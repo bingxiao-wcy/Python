{
 "cells": [
  {
   "cell_type": "code",
   "execution_count": 22,
   "metadata": {},
   "outputs": [],
   "source": [
    "import pandas as pd\n",
    "import numpy\n",
    "import os\n"
   ]
  },
  {
   "cell_type": "code",
   "execution_count": 23,
   "metadata": {},
   "outputs": [],
   "source": [
    "filePath = '.\\data'\n",
    "dir_list = os.listdir(filePath)\n"
   ]
  },
  {
   "cell_type": "code",
   "execution_count": 24,
   "metadata": {},
   "outputs": [],
   "source": [
    "result_list = []\n",
    "for i in dir_list:\n",
    "    filepath = \".\\data\\\\\" + i\n",
    "    excel_raw = pd.read_csv(filepath,skiprows = 3, sep = '\\t' )\n",
    "    excel_raw_df = pd.DataFrame(excel_raw)\n",
    "    #print(excel_raw_df[1:5000])\n",
    "    Area_series = pd.Series(excel_raw_df['Area_M02'].values)\n",
    "    Area = Area_series.sort_values(ascending=False).iloc[:5000]\n",
    "    Area_mean = Area.mean()\n",
    "    Area_median = Area.median()\n",
    "\n",
    "    Aspect_ratio_series = pd.Series(excel_raw_df['Aspect Ratio Intensity_M02_Ch02'].values)\n",
    "    Aspect_ratio = Aspect_ratio_series.sort_values(ascending=False).iloc[:5000]\n",
    "    Aspect_ratio_mean = Aspect_ratio.mean()\n",
    "    Aspect_ratio_median = Aspect_ratio.median()\n",
    "    #print(type(result_list))\n",
    "    temp_list = [i,Area_mean,Area_median,Aspect_ratio_mean,Aspect_ratio_median] \n",
    "    #print(type(temp_list))\n",
    "    result_list.append(temp_list)\n",
    "    #print(type(result_list))\n",
    "    \n",
    "    #print(mean)\n",
    "    #print(median)\n",
    "    #ts = pd.Series(df['Value'].values, index=df['Date'])\n",
    "    #print(Area_series)"
   ]
  },
  {
   "cell_type": "code",
   "execution_count": 25,
   "metadata": {},
   "outputs": [
    {
     "name": "stdout",
     "output_type": "stream",
     "text": [
      "                                       filename  Area_mean  Area_median  \\\n",
      "0                (39h)OS9 A before sort 10%.txt  13.048578    10.888889   \n",
      "1                (39h)OS9 B before sort 10%.txt  17.055244    14.555556   \n",
      "2                (39h)OS9 C before sort 10%.txt  12.992756    10.777778   \n",
      "3   original MDS42 S2 before sort A 10%_7-1.txt   8.663267     7.888889   \n",
      "4     original MDS42 S2 before sort A 10%_7.txt   8.663267     7.888889   \n",
      "5   original MDS42 S2 before sort B 10%_5-1.txt   9.749111     8.666667   \n",
      "6     original MDS42 S2 before sort B 10%_5.txt   9.749111     8.666667   \n",
      "7   original MDS42 S2 before sort C 10%_6-1.txt   9.158200     8.222222   \n",
      "8     original MDS42 S2 before sort C 10%_6.txt   9.158200     8.222222   \n",
      "9                       OS1 before sort_7-1.txt   9.491667     8.555556   \n",
      "10                        OS1 before sort_7.txt   9.491667     8.555556   \n",
      "11                  OS10 A before sort 1%_3.txt   9.332178     8.333333   \n",
      "12                  OS10 B before sort 1%_4.txt  13.677000    11.444444   \n",
      "13                  OS10 C before sort 1%_5.txt   8.780311     8.000000   \n",
      "14                OS11 A after culture 1%_3.txt   8.605844     8.000000   \n",
      "15                  OS11 A before sort 1%_4.txt   8.163022     7.444444   \n",
      "16                 OS11 B  before sort 1%_5.txt  13.756044    11.777778   \n",
      "17                OS11 B after culture 1%_4.txt  15.205889    13.222222   \n",
      "18                 OS11 C  before sort 1%_6.txt   8.223978     7.555556   \n",
      "19                OS11 C after culture 1%_5.txt   8.793622     8.111111   \n",
      "20                      OS3 before sort A_6.txt  13.751822    11.000000   \n",
      "21                      OS3 before sort B_7.txt  12.586600    10.333333   \n",
      "22                      OS3 before sort C_8.txt  11.677289    10.000000   \n",
      "23                  OS4 A before sort 0.2_2.txt  11.622178    10.222222   \n",
      "24                  OS4 B before sort 0.2_1.txt  11.309178     9.888889   \n",
      "25                  OS4 C before sort 0.2_3.txt  11.258844     9.888889   \n",
      "26                   OS5 before sort A 1%_2.txt   7.269756     6.666667   \n",
      "27                   OS5 before sort B 1%_3.txt   7.673956     7.000000   \n",
      "28                   OS5 before sort C 1%_4.txt   7.627178     7.000000   \n",
      "29                   OS6 A before sort 1%_1.txt   8.036867     7.333333   \n",
      "30                   OS6 B before sort 1%_2.txt   8.980956     7.888889   \n",
      "31                   OS6 C before sort 1%_3.txt   8.003378     7.444444   \n",
      "32                   OS7 A before sort 1%_3.txt   9.392289     8.444444   \n",
      "33                   OS7 B before sort 1%_4.txt   8.736156     7.777778   \n",
      "34                   OS7 C before sort 1%_5.txt   9.184644     8.333333   \n",
      "35                   OS8 before sort A 1%_3.txt   8.937333     8.111111   \n",
      "36                   OS8 before sort B 1%_4.txt  10.272489     9.000000   \n",
      "37                   OS8 before sort C 1%_5.txt   9.008467     8.333333   \n",
      "\n",
      "    Aspect_ratio_mean  Aspect_ratio_median  \n",
      "0            0.844858             0.841818  \n",
      "1            0.805054             0.800809  \n",
      "2            0.835882             0.830208  \n",
      "3            0.740681             0.731390  \n",
      "4            0.740681             0.731390  \n",
      "5            0.757004             0.748180  \n",
      "6            0.757004             0.748180  \n",
      "7            0.749424             0.742422  \n",
      "8            0.749424             0.742422  \n",
      "9            0.785187             0.776887  \n",
      "10           0.785187             0.776887  \n",
      "11           0.758618             0.750493  \n",
      "12           0.716942             0.711295  \n",
      "13           0.750175             0.744627  \n",
      "14           0.833956             0.830557  \n",
      "15           0.835434             0.832749  \n",
      "16           0.727016             0.723200  \n",
      "17           0.696008             0.684326  \n",
      "18           0.821695             0.818812  \n",
      "19           0.814978             0.810536  \n",
      "20           0.875798             0.877292  \n",
      "21           0.868627             0.866573  \n",
      "22           0.854046             0.854558  \n",
      "23           0.751346             0.745936  \n",
      "24           0.765089             0.759774  \n",
      "25           0.770583             0.764137  \n",
      "26           0.825796             0.821220  \n",
      "27           0.814533             0.810641  \n",
      "28           0.820260             0.816516  \n",
      "29           0.841194             0.838424  \n",
      "30           0.831366             0.826950  \n",
      "31           0.810468             0.804097  \n",
      "32           0.897427             0.893792  \n",
      "33           0.858740             0.877706  \n",
      "34           0.872381             0.882127  \n",
      "35           0.713433             0.701274  \n",
      "36           0.696817             0.682202  \n",
      "37           0.710946             0.698553  \n"
     ]
    }
   ],
   "source": [
    "result_df = pd.DataFrame(result_list)\n",
    "result_df.rename(columns={0:'filename',1:'Area_mean',2:'Area_median',3:'Aspect_ratio_mean',4:'Aspect_ratio_median'},inplace=True)\n",
    "print(result_df)\n",
    "result_df.to_excel('./result.xlsx')\n",
    "#print(mean)\n",
    "#print(median)\n",
    "#ts = pd.Series(df['Value'].values, index=df['Date'])\n",
    "#print(Area_series)"
   ]
  },
  {
   "cell_type": "code",
   "execution_count": 26,
   "metadata": {},
   "outputs": [],
   "source": [
    "\n",
    "#print(mean)\n",
    "#print(median)"
   ]
  },
  {
   "cell_type": "code",
   "execution_count": null,
   "metadata": {},
   "outputs": [],
   "source": []
  },
  {
   "cell_type": "code",
   "execution_count": null,
   "metadata": {},
   "outputs": [],
   "source": []
  }
 ],
 "metadata": {
  "kernelspec": {
   "display_name": "Python 3",
   "language": "python",
   "name": "python3"
  },
  "language_info": {
   "codemirror_mode": {
    "name": "ipython",
    "version": 3
   },
   "file_extension": ".py",
   "mimetype": "text/x-python",
   "name": "python",
   "nbconvert_exporter": "python",
   "pygments_lexer": "ipython3",
   "version": "3.8.3"
  }
 },
 "nbformat": 4,
 "nbformat_minor": 4
}
